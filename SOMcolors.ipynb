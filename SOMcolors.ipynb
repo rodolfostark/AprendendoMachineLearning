{
  "nbformat": 4,
  "nbformat_minor": 0,
  "metadata": {
    "colab": {
      "name": "SOMcolors.ipynb",
      "version": "0.3.2",
      "provenance": [],
      "collapsed_sections": [],
      "include_colab_link": true
    }
  },
  "cells": [
    {
      "cell_type": "markdown",
      "metadata": {
        "id": "view-in-github",
        "colab_type": "text"
      },
      "source": [
        "<a href=\"https://colab.research.google.com/github/rodolfostark/AprendendoMachineLearning/blob/master/SOMcolors.ipynb\" target=\"_parent\"><img src=\"https://colab.research.google.com/assets/colab-badge.svg\" alt=\"Open In Colab\"/></a>"
      ]
    },
    {
      "metadata": {
        "id": "qaeJn9Zrz8Si",
        "colab_type": "code",
        "colab": {}
      },
      "cell_type": "code",
      "source": [
        "# SOM\n",
        "# from https://www.superdatascience.com/deep-learning/ \n",
        "\n",
        "\n",
        "# Importing the libraries\n",
        "import numpy as np\n",
        "\n",
        "import pandas as pd"
      ],
      "execution_count": 0,
      "outputs": []
    },
    {
      "metadata": {
        "id": "SSi253VYR8e3",
        "colab_type": "code",
        "outputId": "c4932fc9-095a-4d8f-bd49-d5cb6fbd0466",
        "colab": {
          "base_uri": "https://localhost:8080/",
          "height": 153
        }
      },
      "cell_type": "code",
      "source": [
        "# Install MiniSOM\n",
        "# https://github.com/JustGlowing/minisom \n",
        "!pip install minisom"
      ],
      "execution_count": 2,
      "outputs": [
        {
          "output_type": "stream",
          "text": [
            "Collecting minisom\n",
            "  Downloading https://files.pythonhosted.org/packages/d3/de/79460293f5b3b69371832f50419820162b30a12c929d02543df3b4ff3d41/MiniSom-2.1.4.tar.gz\n",
            "Building wheels for collected packages: minisom\n",
            "  Running setup.py bdist_wheel for minisom ... \u001b[?25l-\b \bdone\n",
            "\u001b[?25h  Stored in directory: /root/.cache/pip/wheels/4a/5c/75/d21b1b07292ccd8720a8076304f793031e016c16e9c8eacbf9\n",
            "Successfully built minisom\n",
            "Installing collected packages: minisom\n",
            "Successfully installed minisom-2.1.4\n"
          ],
          "name": "stdout"
        }
      ]
    },
    {
      "metadata": {
        "id": "ffmfHSSMR-Ad",
        "colab_type": "code",
        "outputId": "09798f40-e663-4ff7-9585-a5e295a6f776",
        "colab": {
          "base_uri": "https://localhost:8080/",
          "height": 34
        }
      },
      "cell_type": "code",
      "source": [
        "# Getting the data\n",
        "\n",
        "import os\n",
        "import tarfile\n",
        "from six.moves import urllib\n",
        "import csv\n",
        "\n",
        "FILE_TO_DOWNLOAD =  \"objetosECores.csv\"\n",
        "DOWNLOAD_ROOT = \"https://raw.githubusercontent.com/rodolfostark/ColorSensorMachineLearning/\"\n",
        "DATA_PATH = \"master/\"\n",
        "DATA_URL = DOWNLOAD_ROOT + DATA_PATH + FILE_TO_DOWNLOAD\n",
        "\n",
        "def fetch_data(data_url=DATA_URL, data_path=DATA_PATH, file_to_download=FILE_TO_DOWNLOAD):\n",
        "  if not os.path.isdir(data_path):\n",
        "    os.makedirs(data_path)\n",
        "  urllib.request.urlretrieve(data_url, data_path+file_to_download)\n",
        "  \n",
        "fetch_data()\n",
        "\n",
        "# observando se o diretório datasets foi criado com sucesso \n",
        "# !ls dados\n",
        "\n",
        "\n",
        "!ls master/"
      ],
      "execution_count": 3,
      "outputs": [
        {
          "output_type": "stream",
          "text": [
            "objetosECores.csv\n"
          ],
          "name": "stdout"
        }
      ]
    },
    {
      "metadata": {
        "id": "s7V0kmhxSnN_",
        "colab_type": "code",
        "outputId": "e38d2053-c63f-463a-8717-33302afa35d7",
        "colab": {
          "base_uri": "https://localhost:8080/",
          "height": 1054
        }
      },
      "cell_type": "code",
      "source": [
        "#processo de leitura do arquivo de DADOS\n",
        "\n",
        "leitura = csv.reader(open('master/objetosECores.csv','r'))\n",
        "leitura = list(leitura) # tem que converter pra lista primeiro\n",
        "leitura = np.array(leitura)# e depois converte pra array\n",
        "#leitura2 = leitura.astype(int)\n",
        "# sequencias de testes pra checar se o array foi gerado de forma correta\n",
        "#print (leitura)\n",
        "print(\"\\n\")\n",
        "#print(leitura[0])\n",
        "print(\"\\n\")\n",
        "#print(leitura[0][0])\n",
        "\n",
        "objetos_coloridos = leitura [1:,0:3] # objeto vermelho é o array apenas numérico\n",
        "objetos_coloridos = objetos_coloridos.astype(float)\n",
        "print(objetos_coloridos)\n",
        "y = leitura [1:,3] # objeto vermelho é o array apenas numérico\n",
        "y = y.astype(int)\n",
        "print(y)\n"
      ],
      "execution_count": 4,
      "outputs": [
        {
          "output_type": "stream",
          "text": [
            "\n",
            "\n",
            "\n",
            "\n",
            "[[ 76. 272.  48.]\n",
            " [ 68. 272.  48.]\n",
            " [ 76. 264.  48.]\n",
            " [ 75. 258.  48.]\n",
            " [ 76. 273.  48.]\n",
            " [ 76. 273.  48.]\n",
            " [ 76. 273.  48.]\n",
            " [ 76. 274.  48.]\n",
            " [ 76. 266.  48.]\n",
            " [ 72. 281.  43.]\n",
            " [ 78. 276.  49.]\n",
            " [ 78. 267.  49.]\n",
            " [ 78. 274.  49.]\n",
            " [ 78. 281.  49.]\n",
            " [ 78. 282.  49.]\n",
            " [ 78. 282.  50.]\n",
            " [ 78. 276.  50.]\n",
            " [ 78. 282.  49.]\n",
            " [126.  67.  23.]\n",
            " [127.  60.  23.]\n",
            " [121.  68.  22.]\n",
            " [127.  68.  23.]\n",
            " [127.  64.  23.]\n",
            " [119.  68.  22.]\n",
            " [127.  68.  22.]\n",
            " [121.  67.  22.]\n",
            " [126.  67.  22.]\n",
            " [122.  67.  22.]\n",
            " [122.  59.  22.]\n",
            " [122.  67.  22.]\n",
            " [116.  67.  22.]\n",
            " [114.  67.  22.]\n",
            " [122.  67.  22.]\n",
            " [122.  67.  22.]\n",
            " [122.  67.  22.]\n",
            " [122.  67.  22.]\n",
            " [157. 154.  39.]\n",
            " [157. 154.  39.]\n",
            " [151. 154.  39.]\n",
            " [158. 148.  39.]\n",
            " [158. 154.  39.]\n",
            " [158. 155.  39.]\n",
            " [151. 148.  39.]\n",
            " [158. 154.  39.]\n",
            " [157. 155.  39.]\n",
            " [158. 155.  40.]\n",
            " [152. 155.  39.]\n",
            " [159. 149.  39.]\n",
            " [158. 156.  39.]\n",
            " [159. 156.  39.]\n",
            " [159. 156.  39.]\n",
            " [159. 156.  39.]\n",
            " [158. 156.  39.]\n",
            " [153. 156.  39.]]\n",
            "[-1 -1 -1 -1 -1 -1 -1 -1 -1 -1 -1 -1 -1 -1 -1 -1 -1 -1  0  0  0  0  0  0\n",
            "  0  0  0  0  0  0  0  0  0  0  0  0  1  1  1  1  1  1  1  1  1  1  1  1\n",
            "  1  1  1  1  1  1]\n"
          ],
          "name": "stdout"
        }
      ]
    },
    {
      "metadata": {
        "id": "ELXgWBwPSxUU",
        "colab_type": "code",
        "colab": {}
      },
      "cell_type": "code",
      "source": [
        "X = objetos_coloridos\n",
        "\n",
        "# Training the SOM\n",
        "from minisom import MiniSom\n",
        "som = MiniSom(x = 25, y = 25, input_len = 3, sigma = 1.0, learning_rate = 0.5)\n",
        "som.random_weights_init(X)\n",
        "som.train_random(data = X, num_iteration = 100)"
      ],
      "execution_count": 0,
      "outputs": []
    },
    {
      "metadata": {
        "id": "lhnQcRkmTz7r",
        "colab_type": "code",
        "outputId": "1800e0ab-6cbe-4fff-9560-e023810d9f23",
        "colab": {
          "base_uri": "https://localhost:8080/",
          "height": 439
        }
      },
      "cell_type": "code",
      "source": [
        "# Visualizing the results\n",
        "from array import *\n",
        "from pylab import bone, pcolor, colorbar, plot, show\n",
        "bone()\n",
        "pcolor(som.distance_map().T)\n",
        "colorbar()\n",
        "markers = ['o', 'o', 'o']\n",
        "colors = ['r', 'g', 'b']\n",
        "\n",
        "#futher read https://matplotlib.org/2.0.2/api/colors_api.html\n",
        "\n",
        "teste_vermelho = [45, 156, 115]\n",
        "teste_verde = [101, 67, 65]\n",
        "teste_azul = [172, 184, 104]\n",
        "\n",
        "\n",
        "position_color = []\n",
        "j = 0\n",
        "for i, x in enumerate(X):\n",
        "    w = som.winner(x)\n",
        "    position_color.insert(i, [w[0], w[1], colors[1+y[i]]])\n",
        "    plot(w[0] + 0.5,\n",
        "         w[1] + 0.5,\n",
        "         markers[1+y[i]],\n",
        "         markeredgecolor = colors[1+y[i]],\n",
        "         markerfacecolor = 'None',\n",
        "         markersize = 5,\n",
        "         markeredgewidth = 2) \n",
        "    j=j+1\n",
        "    \n",
        "m = som.winner(teste_azul)\n",
        "k = 1\n",
        "dif_old = abs(m[0]-position_color[1][0])+abs(m[1]-position_color[1][1])\n",
        "for i, x in enumerate(position_color):\n",
        "  dif = abs(m[0]-position_color[i][0])+abs(m[1]-position_color[i][1])\n",
        "  if dif_old > dif:\n",
        "    dif_old = dif\n",
        "    k = i\n",
        "  \n",
        "  \n",
        "plot(m[0] + 0.5, m[1] + 0.5, 'D', markeredgecolor = 'w',  markerfacecolor = 'c',  markersize = 10,  markeredgewidth = 2)\n",
        "print(position_color)\n",
        "print(k)\n",
        "print(position_color[k][2])\n",
        "if position_color[k][2].lower() == 'r':\n",
        "  print('O objeto é vermelho!')\n",
        "elif position_color[k][2].lower() == 'g':\n",
        "  print('O objeto é verde!')\n",
        "else:\n",
        "  print('O objeto é azul!')\n",
        "show()\n",
        "\n",
        "\n"
      ],
      "execution_count": 10,
      "outputs": [
        {
          "output_type": "stream",
          "text": [
            "[[3, 24, 'r'], [9, 24, 'r'], [3, 14, 'r'], [4, 14, 'r'], [5, 20, 'r'], [5, 20, 'r'], [5, 20, 'r'], [6, 24, 'r'], [0, 16, 'r'], [11, 24, 'r'], [1, 24, 'r'], [0, 13, 'r'], [0, 20, 'r'], [8, 23, 'r'], [9, 21, 'r'], [4, 23, 'r'], [2, 20, 'r'], [9, 21, 'r'], [13, 14, 'g'], [16, 9, 'g'], [7, 3, 'g'], [12, 13, 'g'], [15, 12, 'g'], [10, 0, 'g'], [12, 9, 'g'], [9, 4, 'g'], [8, 10, 'g'], [11, 5, 'g'], [16, 9, 'g'], [11, 5, 'g'], [14, 17, 'g'], [18, 22, 'g'], [11, 5, 'g'], [11, 5, 'g'], [11, 5, 'g'], [11, 5, 'g'], [0, 0, 'b'], [0, 0, 'b'], [0, 9, 'b'], [20, 14, 'b'], [17, 1, 'b'], [24, 0, 'b'], [21, 10, 'b'], [17, 1, 'b'], [2, 3, 'b'], [23, 6, 'b'], [1, 8, 'b'], [21, 14, 'b'], [9, 18, 'b'], [9, 15, 'b'], [9, 15, 'b'], [9, 15, 'b'], [9, 18, 'b'], [3, 7, 'b']]\n",
            "38\n",
            "b\n",
            "O objeto é azul!\n"
          ],
          "name": "stdout"
        },
        {
          "output_type": "display_data",
          "data": {
            "image/png": "[encoded data removed]",
            "text/plain": [
              "<matplotlib.figure.Figure at 0x7fb033fa1e50>"
            ]
          },
          "metadata": {
            "tags": []
          }
        }
      ]
    },
    {
      "metadata": {
        "id": "3DJPPs9oJoms",
        "colab_type": "code",
        "colab": {}
      },
      "cell_type": "code",
      "source": [
        "_"
      ],
      "execution_count": 0,
      "outputs": []
    }
  ]
}